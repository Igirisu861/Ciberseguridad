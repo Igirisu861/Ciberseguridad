{
  "nbformat": 4,
  "nbformat_minor": 0,
  "metadata": {
    "colab": {
      "provenance": [],
      "authorship_tag": "ABX9TyOGilAcZb3fmkABkGlvhDP3",
      "include_colab_link": true
    },
    "kernelspec": {
      "name": "python3",
      "display_name": "Python 3"
    },
    "language_info": {
      "name": "python"
    }
  },
  "cells": [
    {
      "cell_type": "markdown",
      "metadata": {
        "id": "view-in-github",
        "colab_type": "text"
      },
      "source": [
        "<a href=\"https://colab.research.google.com/github/Igirisu861/Ciberseguridad/blob/main/FirmaDigitalRSA.ipynb\" target=\"_parent\"><img src=\"https://colab.research.google.com/assets/colab-badge.svg\" alt=\"Open In Colab\"/></a>"
      ]
    },
    {
      "cell_type": "markdown",
      "source": [
        "# **Firmado Digital utilizando RSA**"
      ],
      "metadata": {
        "id": "veKIzUnxBKXg"
      }
    },
    {
      "cell_type": "markdown",
      "source": [
        "## **Importar librerías**"
      ],
      "metadata": {
        "id": "MQ2SOG-hJjAC"
      }
    },
    {
      "cell_type": "code",
      "source": [
        "!pip install pycryptodome"
      ],
      "metadata": {
        "colab": {
          "base_uri": "https://localhost:8080/"
        },
        "id": "8TfZrkUuBdIQ",
        "outputId": "d74bf218-8074-4389-d2d2-3814cd99c307"
      },
      "execution_count": 21,
      "outputs": [
        {
          "output_type": "stream",
          "name": "stdout",
          "text": [
            "Requirement already satisfied: pycryptodome in /usr/local/lib/python3.11/dist-packages (3.21.0)\n"
          ]
        }
      ]
    },
    {
      "cell_type": "code",
      "execution_count": 22,
      "metadata": {
        "id": "vQGsxK7FA9nu"
      },
      "outputs": [],
      "source": [
        "import Crypto.Util.number\n",
        "import hashlib"
      ]
    },
    {
      "cell_type": "markdown",
      "source": [
        "## **Creación de las llaves públicas de Alice**"
      ],
      "metadata": {
        "id": "rxJsryjvBz_6"
      }
    },
    {
      "cell_type": "code",
      "source": [
        "pA = Crypto.Util.number.getPrime(1024,randfunc=Crypto.Random.get_random_bytes)\n",
        "qA = Crypto.Util.number.getPrime(1024,randfunc=Crypto.Random.get_random_bytes)\n",
        "\n",
        "nA = pA*qA\n",
        "print('Llave pública de Alice: ',nA)\n"
      ],
      "metadata": {
        "colab": {
          "base_uri": "https://localhost:8080/"
        },
        "id": "vEkW9KfnBriB",
        "outputId": "08d3648e-e2b3-4976-e3e8-7a59dc6545b7"
      },
      "execution_count": 23,
      "outputs": [
        {
          "output_type": "stream",
          "name": "stdout",
          "text": [
            "Llave pública de Alice:  28088208435860870378965094644644446742130936562907683123267147002391306240167476687520563338358281410810330756042580174590728097072721319630583091540607964011801241847156402178953808707192159532209269164869016248324517116972955296760643766802371761396739422974002273741680346588484954987830512073281888378542555646666404359212108356321548221261564670340679512941748851026315871030591181569489501973361090432994041708910631026671529060102805383794522159617017389212839800321366127310077762731344368494054808787234051861490613146911676455160876970717194706440712397623515885923725889818066507467691794258303918984083737\n"
          ]
        }
      ]
    },
    {
      "cell_type": "markdown",
      "source": [
        "## **Calcular llaves privadas de Alice**"
      ],
      "metadata": {
        "id": "tGERxcvzDGzg"
      }
    },
    {
      "cell_type": "code",
      "source": [
        "#número 4 de Fermat\n",
        "e = 65537\n",
        "\n",
        "phiA = (pA-1)*(qA-1)\n",
        "dA = Crypto.Util.number.inverse(e,phiA)\n",
        "print('Llave privada de Alice: ',dA)"
      ],
      "metadata": {
        "colab": {
          "base_uri": "https://localhost:8080/"
        },
        "id": "oN_gcT65DKGr",
        "outputId": "d83f08a1-3959-44fe-b2dc-1784a806e482"
      },
      "execution_count": 24,
      "outputs": [
        {
          "output_type": "stream",
          "name": "stdout",
          "text": [
            "Llave privada de Alice:  7083661275735973047645377180625958096250059043162460696421249151708554092153868115588749421798154861496149453528110306020042937400520896148042744357892006487740527110636755042399691019004104746148813658802738919271672778878023179957274824567947883979512476660730725855661576947594173307274710523020630348055996079473849226048790270525724109813917875201232546312228129786655999447194941251677255796952022993211306583658765045355280011626146667606420774717380604786648449018628650941189823284144845825850346790310454888632450517727695000978217231603996255566156030615624171326523726277272082242547517295800832076515393\n"
          ]
        }
      ]
    },
    {
      "cell_type": "markdown",
      "source": [
        "## **Creación del mensaje**\n",
        "\n",
        "A diferencia del cifrado, aquí solamente deseamos verificar la autenticidad de quien dice mandar el mensaje. En este caso, debemos comprobar que Alice lo envió."
      ],
      "metadata": {
        "id": "m3sV2RkUEGpC"
      }
    },
    {
      "cell_type": "code",
      "source": [
        "msg = \"Amogus\"\n",
        "print('Mensaje para firmar: ', msg)"
      ],
      "metadata": {
        "colab": {
          "base_uri": "https://localhost:8080/"
        },
        "id": "ouUjUVSHEIbP",
        "outputId": "4bbb2059-f989-47ff-fd7a-6f5b2bd4eeb1"
      },
      "execution_count": 25,
      "outputs": [
        {
          "output_type": "stream",
          "name": "stdout",
          "text": [
            "Mensaje para firmar:  Amogus\n"
          ]
        }
      ]
    },
    {
      "cell_type": "markdown",
      "source": [
        "## **Generación del Hash del mensaje**"
      ],
      "metadata": {
        "id": "55g49YLgGuuv"
      }
    },
    {
      "cell_type": "code",
      "source": [
        "hM = int.from_bytes(hashlib.sha256(msg.encode('utf-8')).digest(),byteorder = 'big')\n",
        "print('Hash del mensaje: ',hex(hM))"
      ],
      "metadata": {
        "colab": {
          "base_uri": "https://localhost:8080/"
        },
        "id": "se3xZaz9GwwW",
        "outputId": "58f160da-4999-429d-a60f-4f3c91b2b355"
      },
      "execution_count": 26,
      "outputs": [
        {
          "output_type": "stream",
          "name": "stdout",
          "text": [
            "Hash del mensaje:  0xff5f2812e2110e51471159a7dab83a9633a729094eec40c5849f3a5ba7004005\n"
          ]
        }
      ]
    },
    {
      "cell_type": "markdown",
      "source": [
        "Ahora, vamos a firmar el hash usando la llave privada de Alice y esta se enviará a Bob"
      ],
      "metadata": {
        "id": "r_KEMvrTHjRV"
      }
    },
    {
      "cell_type": "code",
      "source": [
        "sA = pow(hM,dA,nA)\n",
        "print('Firma de Alice: ',hex(sA))"
      ],
      "metadata": {
        "colab": {
          "base_uri": "https://localhost:8080/"
        },
        "id": "vQ5KIFr8HoUR",
        "outputId": "3749e06d-e69f-43b4-9a77-546260b1b1c0"
      },
      "execution_count": 27,
      "outputs": [
        {
          "output_type": "stream",
          "name": "stdout",
          "text": [
            "Firma de Alice:  0x1e18fbc85b193492cce6fd6afa2821b64b4ffbfd4ba4e1ed99505f9b8d63971e7292e7be687a7eddd023177abd3b8a917fbbddead19d3c2e414893c843eb8de54673d3931eb0d2e074fa42f83e8b82aa239795e3ff086fecd39e7209ab5c1dcb4d52bb7d92cf8affee1038a267fc2678b1291e77d345e2ed5671914da8ed5eaad7adce3b571a34ba1871135bfcdcfff393d0ee8378d13506163458fb4ef9610afa40678cc88a3d9d1dc529d8acbc07ab995bbbacf499ac8e7178c8d3784d2bc3495ba2bd39bcca5183ccb8b0b7119cd25c8c795bb037dc5c857ef7b1fad477f64858c0b65e62006271b1ce3cb758f34e4af860198307813fcf6dd198f11632a3\n"
          ]
        }
      ]
    },
    {
      "cell_type": "markdown",
      "source": [
        "## **Verificación de la firma**"
      ],
      "metadata": {
        "id": "T4eIOVBfILcJ"
      }
    },
    {
      "cell_type": "code",
      "source": [
        "#Bob verifica la firma de Alice usando la llave pública de Alice\n",
        "#tomo la firma, la elevo a el número 4 de Fermat y luego le saco\n",
        "#el módulo usando la clave pública de Alice\n",
        "hM1 = pow(sA,e,nA)\n",
        "print('Hash del mensaje recibido por Bob: ',hex(hM1))\n",
        "print('Firma válida: ', hM == hM1)"
      ],
      "metadata": {
        "colab": {
          "base_uri": "https://localhost:8080/"
        },
        "id": "gBX7qZxdINB8",
        "outputId": "43eb05ee-8601-4957-a19d-42204b42341e"
      },
      "execution_count": 32,
      "outputs": [
        {
          "output_type": "stream",
          "name": "stdout",
          "text": [
            "Hash del mensaje recibido por Bob:  0xff5f2812e2110e51471159a7dab83a9633a729094eec40c5849f3a5ba7004005\n",
            "Firma válida:  True\n"
          ]
        }
      ]
    }
  ]
}