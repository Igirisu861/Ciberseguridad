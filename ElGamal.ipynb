{
  "nbformat": 4,
  "nbformat_minor": 0,
  "metadata": {
    "colab": {
      "provenance": [],
      "authorship_tag": "ABX9TyOo7kSqXOwNpIwhMgq+d6N0",
      "include_colab_link": true
    },
    "kernelspec": {
      "name": "python3",
      "display_name": "Python 3"
    },
    "language_info": {
      "name": "python"
    }
  },
  "cells": [
    {
      "cell_type": "markdown",
      "metadata": {
        "id": "view-in-github",
        "colab_type": "text"
      },
      "source": [
        "<a href=\"https://colab.research.google.com/github/Igirisu861/Ciberseguridad/blob/main/ElGamal.ipynb\" target=\"_parent\"><img src=\"https://colab.research.google.com/assets/colab-badge.svg\" alt=\"Open In Colab\"/></a>"
      ]
    },
    {
      "cell_type": "markdown",
      "source": [
        "Algoritmo ElGamal\n"
      ],
      "metadata": {
        "id": "zxez2uSlTXAZ"
      }
    },
    {
      "cell_type": "markdown",
      "source": [
        "Comenzamos importando las librerías necesarias y además creando la llave pública del usuario."
      ],
      "metadata": {
        "id": "Ro1UhUjzYAtf"
      }
    },
    {
      "cell_type": "code",
      "source": [
        "!pip install pycryptodome"
      ],
      "metadata": {
        "colab": {
          "base_uri": "https://localhost:8080/"
        },
        "id": "W0Iu-37gXdCm",
        "outputId": "585035f9-fd65-4c9f-8c5b-355b0407674e"
      },
      "execution_count": 4,
      "outputs": [
        {
          "output_type": "stream",
          "name": "stdout",
          "text": [
            "Collecting pycryptodome\n",
            "  Downloading pycryptodome-3.21.0-cp36-abi3-manylinux_2_17_x86_64.manylinux2014_x86_64.whl.metadata (3.4 kB)\n",
            "Downloading pycryptodome-3.21.0-cp36-abi3-manylinux_2_17_x86_64.manylinux2014_x86_64.whl (2.3 MB)\n",
            "\u001b[2K   \u001b[90m━━━━━━━━━━━━━━━━━━━━━━━━━━━━━━━━━━━━━━━━\u001b[0m \u001b[32m2.3/2.3 MB\u001b[0m \u001b[31m18.7 MB/s\u001b[0m eta \u001b[36m0:00:00\u001b[0m\n",
            "\u001b[?25hInstalling collected packages: pycryptodome\n",
            "Successfully installed pycryptodome-3.21.0\n"
          ]
        }
      ]
    },
    {
      "cell_type": "code",
      "execution_count": 10,
      "metadata": {
        "colab": {
          "base_uri": "https://localhost:8080/"
        },
        "id": "sRXoWx7-TOMs",
        "outputId": "7b2ea230-468b-41b1-98b5-b116f0c3608e"
      },
      "outputs": [
        {
          "output_type": "stream",
          "name": "stdout",
          "text": [
            "\n",
            " Clave pública completa de Bob:  2410312426921032588552076022197566074856950548502459942654116941958108831682612228890093858261341614673227141477904012196503648957050582631942730706805009223062734745341073406696246014589361659774041027169249453200378729434170325843778659198143763193776859869524088940195577346119843545301547043747207749969763750084308926339295559968882457872412993810129130294592999947926365264059284647209730384947211681434464714438488520940127459844288859336526896320919633919 2 1902123537373335845243422555318158223382091155945662630177085814253481382589586006389092351651154688935748367147305965498100682694385480897070245838817527592574440001474769392104766666446431766898207216613998054170361511233676003475892148304956653378061994155969748305035321101995757460013675102225001437843872374499267687693542130766566226970928865847908989548560903192865782627066522420279377256729742799693032565396281759849000228559522049368605497035617644814\n"
          ]
        }
      ],
      "source": [
        "import random\n",
        "from Crypto.Util.number import *\n",
        "\n",
        "#Establecemos nuestros tres partes de la llave pública\n",
        "\n",
        "#número primo de estandar RFC3526\n",
        "p = int(\"FFFFFFFFFFFFFFFFC90FDAA22168C234C4C6628B80DC1CD129024E088A67CC74020BBEA63B139B22514A08798E3404DDEF9519B3CD3A431B302B0A6DF25F14374FE1356D6D51C245E485B576625E7EC6F44C42E9A637ED6B0BFF5CB6F406B7EDEE386BFB5A899FA5AE9F24117C4B1FE649286651ECE45B3DC2007CB8A163BF0598DA48361C55D39A69163FA8FD24CF5F83655D23DCA3AD961C62F356208552BB9ED529077096966D670C354E4ABC9804F1746C08CA237327FFFFFFFFFFFFFFFF\",16)\n",
        "\n",
        "#Generador estandar de 3526\n",
        "g = 2\n",
        "\n",
        "#Generar llave privadas\n",
        "bob = random.getrandbits(256)\n",
        "\n",
        "#Calcular y\n",
        "# la fórmula es (g^bob)mod(p)\n",
        "y = pow(g,bob,p)\n",
        "\n",
        "print('\\n Clave pública completa de Bob: ',p,g,y)\n",
        "\n"
      ]
    },
    {
      "cell_type": "markdown",
      "source": [
        "Este mensaje vamos a cifrar"
      ],
      "metadata": {
        "id": "gzfKb9jXX-W7"
      }
    },
    {
      "cell_type": "code",
      "source": [
        "#Generar las llaves de Alice\n",
        "alice = random.getrandbits(256)\n",
        "z = pow(g,alice,p)\n",
        "print('\\n Clave pública completa de Alice:', p,g,z)"
      ],
      "metadata": {
        "colab": {
          "base_uri": "https://localhost:8080/"
        },
        "id": "ssLtY_XFapwt",
        "outputId": "f666926a-e873-404d-fc5e-98faf64ea9dc"
      },
      "execution_count": 11,
      "outputs": [
        {
          "output_type": "stream",
          "name": "stdout",
          "text": [
            "\n",
            " Clave pública completa de Alice: 2410312426921032588552076022197566074856950548502459942654116941958108831682612228890093858261341614673227141477904012196503648957050582631942730706805009223062734745341073406696246014589361659774041027169249453200378729434170325843778659198143763193776859869524088940195577346119843545301547043747207749969763750084308926339295559968882457872412993810129130294592999947926365264059284647209730384947211681434464714438488520940127459844288859336526896320919633919 2 185560368701323495704189594196148210379783054954195110896167159501591593018596729543810064208756142736744040185706549536091167134662212396779696504340483482782379874382070456446747099750333072060204763708593942642502116793366705514624015850567102695720194160320307606499979814456437832035986254319661417017938853871673903543851288627973132535176236405202415381396000339219948092921703433322993820394084490418434123535787456168016968578035178551658837828022062609\n"
          ]
        }
      ]
    },
    {
      "cell_type": "code",
      "source": [
        "msg = 850\n",
        "print('\\n Mensaje original: ', msg)"
      ],
      "metadata": {
        "colab": {
          "base_uri": "https://localhost:8080/"
        },
        "id": "Xnas5oixX2jq",
        "outputId": "991665b3-5e7c-40c7-aa88-7bee017c66e0"
      },
      "execution_count": 9,
      "outputs": [
        {
          "output_type": "stream",
          "name": "stdout",
          "text": [
            "\n",
            " Mensaje original:  850\n"
          ]
        }
      ]
    },
    {
      "cell_type": "markdown",
      "source": [
        "Ahora vamos a cifrar el mensaje usando la llave pública de Bob completa, elevarla a la llave privada de Alice y se le aplicará el módulo p"
      ],
      "metadata": {
        "id": "GIPMMaydblCP"
      }
    },
    {
      "cell_type": "code",
      "source": [
        "b = (pow(y,alice,p)*msg) % p\n",
        "print('\\n Mensaje cifrado:', b)"
      ],
      "metadata": {
        "colab": {
          "base_uri": "https://localhost:8080/"
        },
        "id": "bLADAd1rbP-W",
        "outputId": "ffad528e-8f3a-4ef3-d16a-1d47b676efe3"
      },
      "execution_count": 15,
      "outputs": [
        {
          "output_type": "stream",
          "name": "stdout",
          "text": [
            "\n",
            " Mensaje cifrado: 433401600683965594602067892008485431131019150456589405953506146529646331097182916921887642534889150821460547226447538462260631159242227221714997779582440846539210349610669702634411525231108248123949516698888163418346356949180258615934238140141830489692122365384512743579462193850702722585318768105349420838907784081103901791593533825113616983793713338618748778285953600716572751957613195663066573173891502363598625720009327012152131374185267488530877556934450506\n"
          ]
        }
      ]
    },
    {
      "cell_type": "markdown",
      "source": [
        "Descifrar mensaje\n",
        "\n",
        "Al mensaje descrifrado se le aplica el inverso multiplicativo de la clave pública de alice,"
      ],
      "metadata": {
        "id": "dKEfYT5fcqC4"
      }
    },
    {
      "cell_type": "code",
      "source": [
        "decryptMsg = inverse(pow(z,bob,p),p)*b % p\n",
        "print('\\n Mensaje descifrado:', decryptMsg)"
      ],
      "metadata": {
        "colab": {
          "base_uri": "https://localhost:8080/"
        },
        "id": "ElCoXSmudBm1",
        "outputId": "7d2f6760-b537-42b3-a581-3a1d371301f3"
      },
      "execution_count": 17,
      "outputs": [
        {
          "output_type": "stream",
          "name": "stdout",
          "text": [
            "\n",
            " Mensaje descifrado: 850\n"
          ]
        }
      ]
    }
  ]
}