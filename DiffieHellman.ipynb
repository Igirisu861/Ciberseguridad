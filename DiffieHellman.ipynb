{
  "nbformat": 4,
  "nbformat_minor": 0,
  "metadata": {
    "colab": {
      "provenance": [],
      "authorship_tag": "ABX9TyPHXM0KDFEkKe2qxj81U9As",
      "include_colab_link": true
    },
    "kernelspec": {
      "name": "python3",
      "display_name": "Python 3"
    },
    "language_info": {
      "name": "python"
    }
  },
  "cells": [
    {
      "cell_type": "markdown",
      "metadata": {
        "id": "view-in-github",
        "colab_type": "text"
      },
      "source": [
        "<a href=\"https://colab.research.google.com/github/Igirisu861/Ciberseguridad/blob/main/DiffieHellman.ipynb\" target=\"_parent\"><img src=\"https://colab.research.google.com/assets/colab-badge.svg\" alt=\"Open In Colab\"/></a>"
      ]
    },
    {
      "cell_type": "markdown",
      "source": [
        "# **Método de intercambio de claves Diffie-Hellman**\n",
        "\n",
        "\n",
        "---\n",
        "\n",
        "Este algoritmo NO es un algoritmo de cifrado, sino un algoritmo de intercambio de claves. Básicamente se piensa como complemento de un método de cifrado simétrico. Por ejemplo, usando Diffie-Hellman intercambiamos la llave con otro usuario y así se puede cifrar o descifrar en el algoritmo de cifrado.\n",
        "\n",
        "Iniciamos estableciendo el número primo a utilizar y el número alfa. Ambos son\n"
      ],
      "metadata": {
        "id": "kLFSFObtKi2B"
      }
    },
    {
      "cell_type": "code",
      "execution_count": 10,
      "metadata": {
        "colab": {
          "base_uri": "https://localhost:8080/"
        },
        "collapsed": true,
        "id": "bdcQcxJ75rTJ",
        "outputId": "d4a79539-a502-496f-d966-ade1d4aa7710"
      },
      "outputs": [
        {
          "output_type": "stream",
          "name": "stdout",
          "text": [
            "Variables públicas compartidas\n",
            "Número primo compartido públicamente 2410312426921032588552076022197566074856950548502459942654116941958108831682612228890093858261341614673227141477904012196503648957050582631942730706805009223062734745341073406696246014589361659774041027169249453200378729434170325843778659198143763193776859869524088940195577346119843545301547043747207749969763750084308926339295559968882457872412993810129130294592999947926365264059284647209730384947211681434464714438488520940127459844288859336526896320919633919\n",
            "Número base compartido públicamente 2\n"
          ]
        }
      ],
      "source": [
        "import hashlib\n",
        "import random\n",
        "\n",
        "#número primo de RFC3526 de 1536 bits -  MODP Group\n",
        "p = int(\"FFFFFFFFFFFFFFFFC90FDAA22168C234C4C6628B80DC1CD129024E088A67CC74020BBEA63B139B22514A08798E3404DDEF9519B3CD3A431B302B0A6DF25F14374FE1356D6D51C245E485B576625E7EC6F44C42E9A637ED6B0BFF5CB6F406B7EDEE386BFB5A899FA5AE9F24117C4B1FE649286651ECE45B3DC2007CB8A163BF0598DA48361C55D39A69163FA8FD24CF5F83655D23DCA3AD961C62F356208552BB9ED529077096966D670C354E4ABC9804F1746C08CA237327FFFFFFFFFFFFFFFF\",16)\n",
        "\n",
        "#número \"alfa\". Este es público y no importa que sea sencillo, la seguridad está en el número primo de arriba\n",
        "g = 2\n",
        "\n",
        "print('Variables públicas compartidas')\n",
        "\n",
        "print('Número primo compartido públicamente',p)\n",
        "\n",
        "print('Número base compartido públicamente',g)"
      ]
    },
    {
      "cell_type": "code",
      "source": [
        "#Generamos los números secretos de Alice y Bob\n",
        "sAlice = random.getrandbits(256) #esto sería a\n",
        "sBob = random.getrandbits(256) #esto sería b\n",
        "\n",
        "print('\\n', 'número secreto de Alice ', sAlice)\n",
        "print('\\n', 'número secreto de Bob ', sBob)"
      ],
      "metadata": {
        "colab": {
          "base_uri": "https://localhost:8080/"
        },
        "id": "Sk6w5Y7QIPuP",
        "outputId": "61fa3745-57f1-4200-8901-91e44797dbe5"
      },
      "execution_count": 9,
      "outputs": [
        {
          "output_type": "stream",
          "name": "stdout",
          "text": [
            "\n",
            " número secreto de Alice  86074516845225935014761125015198129361156375103224787853557483947831816231840\n",
            "\n",
            " número secreto de Bob  88263032502406079266688327398454672309010573508009403754702300013207825589005\n"
          ]
        }
      ]
    },
    {
      "cell_type": "markdown",
      "source": [
        "Alice manda mensaje a Bob\n",
        "\n",
        "---\n",
        "\n",
        "A = (g^a)mod(p)\n"
      ],
      "metadata": {
        "id": "HwHqjuYzJPh9"
      }
    },
    {
      "cell_type": "code",
      "source": [
        "A = pow(g,sAlice,p)\n",
        "print('Mensaje de Alice para Bob: ',A)"
      ],
      "metadata": {
        "colab": {
          "base_uri": "https://localhost:8080/"
        },
        "id": "xyHe0Dg6JRmq",
        "outputId": "e1d53415-80dd-4f86-be66-d2c355d60c4d"
      },
      "execution_count": 14,
      "outputs": [
        {
          "output_type": "stream",
          "name": "stdout",
          "text": [
            "Mensaje de Alice para Bob:  243956882500345380915814351101501618978893348313896216842800457748366414260433117709201826831341670098083105311665580169384360217201808987935654115249843687945255184882700623532888319558862395862363278503402424368983293600395330441061104964119926808957128124003762186001991603518280686474848659109123558582736579394363591696724071346256908777260365974063218166098721257592362195804387600180370585360702700080615125753546117784058347994895456585795931928091463002\n"
          ]
        }
      ]
    },
    {
      "cell_type": "markdown",
      "source": [
        "Bob manda mensaje a Alice\n",
        "\n",
        "\n",
        "---\n",
        "\n"
      ],
      "metadata": {
        "id": "NOiyG-t2KbH6"
      }
    },
    {
      "cell_type": "code",
      "source": [
        "B = pow(g,sBob,p)\n",
        "print('Mensaje de Bob para Alice: ',B)"
      ],
      "metadata": {
        "colab": {
          "base_uri": "https://localhost:8080/"
        },
        "id": "C12j4xQgKXZa",
        "outputId": "96876e5e-4296-4a46-bc61-0bb87a033f7f"
      },
      "execution_count": 15,
      "outputs": [
        {
          "output_type": "stream",
          "name": "stdout",
          "text": [
            "Mensaje de Bob para Alice:  1732564531052925911198273702762449378068144073365000529797851280822533298226059982193990177587522325896702175696647257944659091039352103485207821250740312757939845495715728781864853019231186591697996676412594734367025552609682491125678075157184791489415185274205869812035165367867651959957619893320881678734488374831120728164673470700147724963720483026995631008309511972178435692127576901589136057343689768814976141578585794638906074491486023073396778860929701894\n"
          ]
        }
      ]
    },
    {
      "cell_type": "markdown",
      "source": [
        "Tanto Bob como Alice van a calcular la llave secreta compartida con la información que ellos poseen y el mensaje recibido del otro (A y B)\n",
        "\n",
        "---\n",
        "\n",
        "La operación sería: s1 = (B^a)mod(p)"
      ],
      "metadata": {
        "id": "4zrroCF6LPcE"
      }
    },
    {
      "cell_type": "code",
      "source": [
        "s1 = pow(B,sAlice,p)\n",
        "\n",
        "s2 = pow(A, sBob, p)\n",
        "\n",
        "print('\\n','Llave secreta compartida de Alice: ', s1)\n",
        "\n",
        "print('\\n', 'Llave secreta compartida de Alice: ', s2)"
      ],
      "metadata": {
        "colab": {
          "base_uri": "https://localhost:8080/"
        },
        "id": "nSOC4E97LbOM",
        "outputId": "0aa5c679-688b-4a96-ab3c-c31010d3d589"
      },
      "execution_count": 17,
      "outputs": [
        {
          "output_type": "stream",
          "name": "stdout",
          "text": [
            "\n",
            " Llave secreta compartida de Alice:  936158446527890781860685828038434973506177758999253404788342762961790494540012312403123812427767559773702896104846402094260438762233820779725889269431813314159054411136111628646363666682191965689389125692156947990862384820793467380559485641663239688352687337170779218322410262857686232047795095403962405303812350530000521410292628146577512766618831931697724181320086639470230387592278432765442980154476779418067453023493774299399583749332614243951077472609402184\n",
            "\n",
            " Llave secreta compartida de Alice:  936158446527890781860685828038434973506177758999253404788342762961790494540012312403123812427767559773702896104846402094260438762233820779725889269431813314159054411136111628646363666682191965689389125692156947990862384820793467380559485641663239688352687337170779218322410262857686232047795095403962405303812350530000521410292628146577512766618831931697724181320086639470230387592278432765442980154476779418067453023493774299399583749332614243951077472609402184\n"
          ]
        }
      ]
    },
    {
      "cell_type": "markdown",
      "source": [
        "Esta llave secreta compartida es imposible de calcular y esta será la clave que se utilice para cifrar lo que sea que deseen compartir. Gracias al método Diffie-Hellman es posible generar esta llave secreta compartiendo información para que sea compartida la clave sin necesidad de arriesgar a que la llave sea interceptada."
      ],
      "metadata": {
        "id": "UQZ0gPSoMdmR"
      }
    },
    {
      "cell_type": "code",
      "source": [
        "#validar que las llaves secretas sean iguales\n",
        "h1 = hashlib.sha512(int.to_bytes(s1, length=1024, byteorder='big')).hexdigest()\n",
        "h2 = hashlib.sha512(int.to_bytes(s2, length=1024, byteorder='big')).hexdigest()\n",
        "\n",
        "if(h1==h2):\n",
        "  print('Las llaves secretas son iguales')\n",
        "else:\n",
        "  print('Las llaves secretas son diferentes')"
      ],
      "metadata": {
        "colab": {
          "base_uri": "https://localhost:8080/"
        },
        "id": "2kJvoWvqNC8T",
        "outputId": "dc56b677-355f-452a-8c61-ed44e09d7708"
      },
      "execution_count": 21,
      "outputs": [
        {
          "output_type": "stream",
          "name": "stdout",
          "text": [
            "Las llaves secretas son iguales\n"
          ]
        }
      ]
    },
    {
      "cell_type": "markdown",
      "source": [
        "Aquí podemos comprobar que al hashear las llaves generan el mismo número debido a que son exactamente iguales. Esto comprueba que el método logra con éxito generar una llave secreta compartida."
      ],
      "metadata": {
        "id": "bdGH4uR8OBpb"
      }
    }
  ]
}