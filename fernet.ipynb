{
  "nbformat": 4,
  "nbformat_minor": 0,
  "metadata": {
    "colab": {
      "provenance": [],
      "authorship_tag": "ABX9TyOhheq90lZ8iJ/qsDhyXu1f",
      "include_colab_link": true
    },
    "kernelspec": {
      "name": "python3",
      "display_name": "Python 3"
    },
    "language_info": {
      "name": "python"
    }
  },
  "cells": [
    {
      "cell_type": "markdown",
      "metadata": {
        "id": "view-in-github",
        "colab_type": "text"
      },
      "source": [
        "<a href=\"https://colab.research.google.com/github/Igirisu861/Ciberseguridad/blob/main/fernet.ipynb\" target=\"_parent\"><img src=\"https://colab.research.google.com/assets/colab-badge.svg\" alt=\"Open In Colab\"/></a>"
      ]
    },
    {
      "cell_type": "markdown",
      "source": [
        "# **Ejercicio de cifrado simétrico AES usando el algoritmo de fernet**\n",
        "\n",
        "Este método es sencillo, ya que esencialmente hay una llave y se cifra el mensaje. Claro, hay que proteger esa llave, pero hay que compartirla con el otro usuario y eso es un riesgo"
      ],
      "metadata": {
        "id": "i0ru7p2XZdiK"
      }
    },
    {
      "cell_type": "code",
      "execution_count": null,
      "metadata": {
        "colab": {
          "base_uri": "https://localhost:8080/"
        },
        "id": "AYclDlC0U0LH",
        "outputId": "4fb4ad3c-71c4-4813-b620-25d8130760a8"
      },
      "outputs": [
        {
          "output_type": "stream",
          "name": "stdout",
          "text": [
            "b'lVO2ZqDIlwT9gW27Dw3pFvLJA1hHhjXwD6Ki1eUOn0A='\n",
            "b'Sata Andagi'\n",
            "Mensaje encriptado b'gAAAAABnkw1V2V4z3mvv67UBX_L2wfELAKbs5dfCaoy4qWPZSNfWH5Jqm2f2e59AevsqjHwW6EkmrUp8JuiJQTn8Nb8AW5vakQ=='\n",
            "Mensaje descifrado: Sata Andagi\n"
          ]
        }
      ],
      "source": [
        "#Ejercicio de cifrado simétrico AES usando el algoritmo de fernet\n",
        "\n",
        "#utilizamos la librería de Fernet\n",
        "from cryptography.fernet import Fernet\n",
        "\n",
        "#Generar la llave de cifrado\n",
        "key = Fernet.generate_key()\n",
        "print(key)\n",
        "\n",
        "#Mensaje a cifrar. Es importante establecer el encode para evitar\n",
        "#broncas con las ñ y eso\n",
        "msg = 'Sata Andagi'.encode('utf-8')\n",
        "print(msg)\n",
        "\n",
        "#ciframos el mensaje\n",
        "f = Fernet(key)\n",
        "cypMsg = f.encrypt(msg)\n",
        "\n",
        "#imprimimos el token\n",
        "print('Mensaje encriptado',cypMsg)\n",
        "\n",
        "#Descifrar el mensaje\n",
        "decyMsg = f.decrypt(cypMsg)\n",
        "print('Mensaje descifrado:',decyMsg.decode('utf-8'))\n"
      ]
    }
  ]
}