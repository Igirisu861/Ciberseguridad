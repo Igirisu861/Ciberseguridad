{
  "nbformat": 4,
  "nbformat_minor": 0,
  "metadata": {
    "colab": {
      "provenance": [],
      "authorship_tag": "ABX9TyMTaSrEevXLUUkJbjNRMfSE",
      "include_colab_link": true
    },
    "kernelspec": {
      "name": "python3",
      "display_name": "Python 3"
    },
    "language_info": {
      "name": "python"
    }
  },
  "cells": [
    {
      "cell_type": "markdown",
      "metadata": {
        "id": "view-in-github",
        "colab_type": "text"
      },
      "source": [
        "<a href=\"https://colab.research.google.com/github/Igirisu861/Ciberseguridad/blob/main/RSA.ipynb\" target=\"_parent\"><img src=\"https://colab.research.google.com/assets/colab-badge.svg\" alt=\"Open In Colab\"/></a>"
      ]
    },
    {
      "cell_type": "markdown",
      "source": [
        "# **RSA**\n",
        "\n",
        "---\n",
        "\n",
        "\n",
        "\n"
      ],
      "metadata": {
        "id": "DHwwMdKOU9rx"
      }
    },
    {
      "cell_type": "code",
      "execution_count": null,
      "metadata": {
        "colab": {
          "base_uri": "https://localhost:8080/"
        },
        "id": "UIgKBPx8UtHF",
        "outputId": "3755f072-ecfa-446d-8f78-76df0bbd58e8"
      },
      "outputs": [
        {
          "output_type": "stream",
          "name": "stdout",
          "text": [
            "Collecting pycryptodome\n",
            "  Downloading pycryptodome-3.21.0-cp36-abi3-manylinux_2_17_x86_64.manylinux2014_x86_64.whl.metadata (3.4 kB)\n",
            "Downloading pycryptodome-3.21.0-cp36-abi3-manylinux_2_17_x86_64.manylinux2014_x86_64.whl (2.3 MB)\n",
            "\u001b[2K   \u001b[90m━━━━━━━━━━━━━━━━━━━━━━━━━━━━━━━━━━━━━━━━\u001b[0m \u001b[32m2.3/2.3 MB\u001b[0m \u001b[31m11.6 MB/s\u001b[0m eta \u001b[36m0:00:00\u001b[0m\n",
            "\u001b[?25hInstalling collected packages: pycryptodome\n",
            "Successfully installed pycryptodome-3.21.0\n"
          ]
        }
      ],
      "source": [
        "!pip install pycryptodome"
      ]
    },
    {
      "cell_type": "markdown",
      "source": [
        "## **Cálculo de llave pública de Alice**"
      ],
      "metadata": {
        "id": "YNZKA_YufOH9"
      }
    },
    {
      "cell_type": "code",
      "source": [
        "import Crypto.Util.number\n",
        "import random\n",
        "\n",
        "e = 65537\n",
        "\n",
        "#primer primo de Alice\n",
        "pA = Crypto.Util.number.getPrime(1024, randfunc=Crypto.Random.get_random_bytes)\n",
        "\n",
        "#segundo primo de Alice\n",
        "qA = Crypto.Util.number.getPrime(1024, randfunc=Crypto.Random.get_random_bytes)\n",
        "\n",
        "\n",
        "print(f'Números primos de Alice: {pA} \\n y {qA}')\n",
        "\n",
        "#cálculo de llave pública de Alice (nA)\n",
        "\n",
        "nA = pA*qA\n",
        "\n",
        "print(f'\\n Llave pública de Alice: {nA}')\n"
      ],
      "metadata": {
        "colab": {
          "base_uri": "https://localhost:8080/"
        },
        "id": "d0UAR28nVgT4",
        "outputId": "7beff20b-4c9a-4f51-f81b-6c1893f20ce9"
      },
      "execution_count": null,
      "outputs": [
        {
          "output_type": "stream",
          "name": "stdout",
          "text": [
            "Números primos de Alice: 125845947434201346295941320714533143025734806957000247901018100824252624504108473173563838349924451189488939541859960967163054879078357228946008931406828618528227848577485964572333638776543327137088568249701062378392238906030457210750030526484796702345808171747606097329156208101884830844704095337038267443513 \n",
            " y 156385962370990158752428180716741391134340085002655385068676899000931777124294892795522720065987573983946139751158945001546589223830859951423742575669082944338704633306098014841866873009748200748189711690438723675266036754220490759070628621724908619613448588237862320491942964418333530161579508876023663742793\n",
            "\n",
            " Llave pública de Alice: 19680539599986617259150009480127566463189830696017192939442618804177669016472616854088927093750949291728447345160363244990054239958361540591317086163514992191513068304013506028566556947587851808401906404008502668575320759301669983557081396047199686416152536737351276511466862558303494701314935642398605298978661731854408598530987926340496487402931093368167426059752238112022698941522378343838164345049005580667168366021227361239306152568409946382892776106787454379304125721080197528456931393741042574822973883513209208030745874352231563703557877801438182630029476887280220116112092741011227469020036328569637288351809\n"
          ]
        }
      ]
    },
    {
      "cell_type": "markdown",
      "source": [
        "Aquí podemos ver la increíble dificultad de factorizar nA para saber qué número p y q lo generó, de ahí lo seguro de este algoritmo de encriptación y que no importa que esta llave pública pueda . Para poder cifrar un mensaje, este debe cifrarse por el remitente con la llave pública del receptor y este lo va a descrifrar con su propia llave privada. Este algoritmo no necesita intercambiar llaves."
      ],
      "metadata": {
        "id": "yoBPBkH-Xn32"
      }
    },
    {
      "cell_type": "markdown",
      "source": [
        "## **Cálculo de llave privada de Alice**"
      ],
      "metadata": {
        "id": "FOyjAxt9fHOx"
      }
    },
    {
      "cell_type": "code",
      "source": [
        "phiA = (pA-1)*(qA-1)\n",
        "print(f'Phi de Alice: {phiA}')\n",
        "\n",
        "#Ahora se realiza el cálculo de la llave privada\n",
        "dA = Crypto.Util.number.inverse(e, phiA)\n",
        "print(f'\\nLlave privada de Alice: {dA}')"
      ],
      "metadata": {
        "colab": {
          "base_uri": "https://localhost:8080/"
        },
        "id": "TZrc2APyYutR",
        "outputId": "496cc33a-2965-48eb-c7eb-4645b25787b9"
      },
      "execution_count": null,
      "outputs": [
        {
          "output_type": "stream",
          "name": "stdout",
          "text": [
            "Phi de Alice: 19680539599986617259150009480127566463189830696017192939442618804177669016472616854088927093750949291728447345160363244990054239958361540591317086163514992191513068304013506028566556947587851808401906404008502668575320759301669983557081396047199686416152536737351276511466862558303494701314935642398605298978379499944603407025939556839065212868771018476207770426782543112197514539893974977869077786633093555493733286728208455270596508465500729202523024599711542816437193239196613549042730881954751046937695603573069421977087598691980615733737218653228477308070220127294751698290993568491009108013752724356575357165504\n",
            "\n",
            "Llave privada de Alice: 3919771783856833774565284858081772510856720021897743556136907445426722518150313071950543438893009156734843267106798013898334955737621392333162365163073701772675283894171052904327010205484905162809864416917512021192817215789015339355945244100341753616888766071572489010851533591307742440701647236526374337665208776916503780641616018972798849864596611138287380065929055880548608530894548962969392440131860936262869838284683537034760459358838229065726735128248695673939220338911353840664888020540387344792678040090929935228449950802240306653836335430071430097536362410875969206979146727032258752870950979004629112365249\n"
          ]
        }
      ]
    },
    {
      "cell_type": "markdown",
      "source": [
        "## **Cifrado de mensaje**"
      ],
      "metadata": {
        "id": "D-eVp_B2eAjQ"
      }
    },
    {
      "cell_type": "code",
      "source": [
        "msg = 777\n",
        "print(f'Mensaje a cifrar {msg}')\n",
        "\n",
        "#Bob cifra el mensaje con la clave pública de Alice\n",
        "crypt_msg = pow(msg, e, nA)\n",
        "print(f'Mensaje cifrado: {crypt_msg}')\n",
        "\n",
        "#Alice descifra el mensaje con su llave privada\n",
        "dec_msg = pow(crypt_msg, dA, nA)\n",
        "print(f'Mensaje descifrado: {dec_msg}')\n"
      ],
      "metadata": {
        "colab": {
          "base_uri": "https://localhost:8080/"
        },
        "id": "Qxq295hwd8zm",
        "outputId": "0a557f2a-065f-47d6-84c7-cf5ac36bd8dc"
      },
      "execution_count": null,
      "outputs": [
        {
          "output_type": "stream",
          "name": "stdout",
          "text": [
            "Mensaje a cifrar 777\n",
            "Mensaje cifrado: 12140565850844887811646391320297065392137326209309541183410709574689386069350475021214695783909091643793335502786693085510179361492213632356915117958982140909799515967020460084284180614747635878968215877395656378034602945368039068196897547387345233467569847374687475080479315953056685407956503494671300958711616129893244948503850132877888711775292028696747674661254181890235290135802757923852777453043305508898685320585629539209276212195983784610643927381470396007531688551349399312211193324589006200918441236772939881232709959196080948189907631899183993818589147021285074452199510346080484483467252221220307036214880\n",
            "Mensaje descifrado: 777\n"
          ]
        }
      ]
    }
  ]
}